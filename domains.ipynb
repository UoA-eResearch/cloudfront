{
 "cells": [
  {
   "cell_type": "code",
   "execution_count": null,
   "metadata": {},
   "outputs": [],
   "source": [
    "import pandas as pd\n",
    "from dns.resolver import resolve, resolve_at\n",
    "from tqdm.auto import tqdm\n",
    "from tqdm.contrib.concurrent import thread_map, process_map\n",
    "tqdm.pandas()\n",
    "# From https://host.io/rankings\n",
    "df = pd.read_csv(\"host10m.csv.gz\", names=[\"domain\", \"rank\"]).head(100000)\n",
    "df"
   ]
  },
  {
   "cell_type": "code",
   "execution_count": null,
   "metadata": {},
   "outputs": [],
   "source": [
    "bad_IPs = \"65.9.141.129,65.9.141.14,65.9.141.29,65.9.141.47,65.9.141.57,65.9.141.82,65.9.141.86,65.9.141.92\".split(\",\")\n",
    "bad_IPs"
   ]
  },
  {
   "cell_type": "code",
   "execution_count": null,
   "metadata": {},
   "outputs": [],
   "source": [
    "def safe_resolve(domain):\n",
    "  try:\n",
    "    return resolve(domain)\n",
    "  except Exception as e:\n",
    "    print(e)\n",
    "df[\"response\"] = thread_map(safe_resolve, df.domain)\n",
    "#df[\"response\"] = df.domain.progress_apply(safe_resolve)"
   ]
  },
  {
   "cell_type": "code",
   "execution_count": null,
   "metadata": {},
   "outputs": [],
   "source": [
    "def calc_failure_rate(response):\n",
    "    if response:\n",
    "        return sum([str(r) in bad_IPs for r in response])/len(response)\n",
    "\n",
    "df[\"failure_rate\"] = df.response.apply(calc_failure_rate)\n",
    "df[df.failure_rate > 0].sort_values(\"failure_rate\")"
   ]
  },
  {
   "cell_type": "code",
   "execution_count": null,
   "metadata": {},
   "outputs": [],
   "source": [
    "df[df.failure_rate > .25]"
   ]
  },
  {
   "cell_type": "code",
   "execution_count": null,
   "metadata": {},
   "outputs": [],
   "source": [
    "def ans_to_str(response):\n",
    "  if response:\n",
    "    return [str(a) for a in response]\n",
    "df.response = df.response.apply(ans_to_str)\n",
    "df.to_csv(\"100K_domains_resolved.csv\", index=False)"
   ]
  }
 ],
 "metadata": {
  "kernelspec": {
   "display_name": "Python 3",
   "language": "python",
   "name": "python3"
  },
  "language_info": {
   "codemirror_mode": {
    "name": "ipython",
    "version": 3
   },
   "file_extension": ".py",
   "mimetype": "text/x-python",
   "name": "python",
   "nbconvert_exporter": "python",
   "pygments_lexer": "ipython3",
   "version": "3.10.12"
  }
 },
 "nbformat": 4,
 "nbformat_minor": 2
}
